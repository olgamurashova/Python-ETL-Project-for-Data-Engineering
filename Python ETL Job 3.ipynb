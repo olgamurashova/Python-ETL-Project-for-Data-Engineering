{
 "cells": [
  {
   "cell_type": "code",
   "execution_count": null,
   "id": "91de1369",
   "metadata": {},
   "outputs": [],
   "source": [
    "#downloading the file\n",
    "!wget https://cf-courses-data.s3.us.cloud-object-storage.appdomain.cloud/IBMDeveloperSkillsNetwork-PY0221EN-SkillsNetwork/labs/module%206/Lab%20-%20Extract%20Transform%20Load/data/datasource.zip"
   ]
  },
  {
   "cell_type": "code",
   "execution_count": null,
   "id": "72af580f",
   "metadata": {},
   "outputs": [],
   "source": [
    "#Unziping the file\n",
    "!unzip datasource.zip -d dealership_data"
   ]
  },
  {
   "cell_type": "code",
   "execution_count": null,
   "id": "8df224a2",
   "metadata": {},
   "outputs": [],
   "source": [
    "#Set path \n",
    "tmpfile    = \"dealership_temp.tmp\"               # file used to store all extracted data\n",
    "logfile    = \"dealership_logfile.txt\"            # all event logs will be stored in this file\n",
    "targetfile = \"dealership_transformed_data.csv\"   # file where transformed data is stored"
   ]
  },
  {
   "cell_type": "code",
   "execution_count": null,
   "id": "53c34e07",
   "metadata": {},
   "outputs": [],
   "source": [
    "#CSV extract function below\n",
    "def extract_from_csv(file_to_process):\n",
    "    dataframe = pd.read_csv(file_to_process)\n",
    "    return dataframe\n"
   ]
  },
  {
   "cell_type": "code",
   "execution_count": null,
   "id": "4029ec0e",
   "metadata": {},
   "outputs": [],
   "source": [
    "#JSON extract function below\n",
    "def extract_from_json(file_to_process):\n",
    "    dataframe = pd.read_json(file_to_process, lines=True)\n",
    "    return dataframe"
   ]
  },
  {
   "cell_type": "code",
   "execution_count": null,
   "id": "ab997f7d",
   "metadata": {},
   "outputs": [],
   "source": [
    "# Add the XML extract function \n",
    "def extract_from_xml(file_to_process):\n",
    "    dataframe = pd.DataFrame(columns=[\"car_model\", \"year_of_manufacture\", \"price\", \"fuel\"])\n",
    "    tree = ET.parse(file_to_process)\n",
    "    root = tree.getroot()\n",
    "    for person in root:\n",
    "        car_model = person.find(\"car_model\").text\n",
    "        year_of_manufacture = int(person.find(\"year_of_manufacture\").text)\n",
    "        price = float(person.find(\"price\").text)\n",
    "        fuel = person.find(\"fuel\").text\n",
    "        dataframe = dataframe.append({\"car_model\":car_model, \"year_of_manufacture\":year_of_manufacture, \"price\":price, \"fuel\":fuel}, ignore_index = True)\n",
    "    return dataframe"
   ]
  },
  {
   "cell_type": "code",
   "execution_count": null,
   "id": "01eeb7e5",
   "metadata": {},
   "outputs": [],
   "source": [
    "# Defining extract function\n",
    "def extract():\n",
    "    extracted_data = pd.DataFrame(columns=['car_model','year_of_manufacture','price', 'fuel']) # create an empty data frame to hold extracted data\n",
    "    \n",
    "    #process all csv files\n",
    "    for csvfile in glob.glob(\"dealership_data/*.csv\"):\n",
    "        extracted_data = extracted_data.append(extract_from_csv(csvfile), ignore_index=True)\n",
    "        \n",
    "    #process all json files\n",
    "    for jsonfile in glob.glob(\"dealership_data/*.json\"):\n",
    "        extracted_data = extracted_data.append(extract_from_json(jsonfile), ignore_index=True)\n",
    "    \n",
    "    #process all xml files\n",
    "    for xmlfile in glob.glob(\"dealership_data/*.xml\"):\n",
    "        extracted_data = extracted_data.append(extract_from_xml(xmlfile), ignore_index=True)\n",
    "        \n",
    "    return extracted_data"
   ]
  },
  {
   "cell_type": "code",
   "execution_count": null,
   "id": "7ba44b50",
   "metadata": {},
   "outputs": [],
   "source": [
    "# transform function\n",
    "def transform(data):\n",
    "    data['price'] = round(data.price, 2)\n",
    "    return data"
   ]
  },
  {
   "cell_type": "code",
   "execution_count": null,
   "id": "e8e5a50a",
   "metadata": {},
   "outputs": [],
   "source": [
    "#load function\n",
    "def load(targetfile, data_to_load):\n",
    "    data_to_load.to_csv(targetfile)"
   ]
  },
  {
   "cell_type": "code",
   "execution_count": null,
   "id": "5e627e56",
   "metadata": {},
   "outputs": [],
   "source": [
    "#log function \n",
    "def log(message):\n",
    "    timestamp_format = '%H:%M:%S-%h-%d-%Y' #Hour-Minute-Second-MonthName-Day-Year\n",
    "    now = datetime.now() # get current timestamp\n",
    "    timestamp = now.strftime(timestamp_format)\n",
    "    with open(\"dealership_logfile.txt\",\"a\") as f:\n",
    "        f.write(timestamp + ',' + message + '\\n')"
   ]
  },
  {
   "cell_type": "code",
   "execution_count": null,
   "id": "98f3c0f6",
   "metadata": {},
   "outputs": [],
   "source": [
    "# Log ETL process\n",
    "log(\"ETL Job Started\")\n",
    "\n",
    "# Log Extract step\n",
    "log(\"ETL Extract Started\")\n",
    "# Call the Extract function\n",
    "extracted_data = extract()\n",
    "# Log completed Extract step\n",
    "log(\"Extract Job Completed\")\n",
    "\n",
    "\n",
    "# Log Transform step\n",
    "log(\"Transform Job Started\")\n",
    "# Call the Transform function\n",
    "transformed_data = transform(extracted_data)\n",
    "# Log completed the Transform step\n",
    "log(\"Transform Job Completed\") \n",
    "\n",
    "# Log the Load step\n",
    "log(\"Load Job Started\")\n",
    "# Call the Load function\n",
    "load(targetfile, transformed_data)\n",
    "# Log completed the Load step\n",
    "log(\"Load Job Completed\")\n",
    "\n",
    "# Log completed the ETL process\n",
    "log(\"ETL Job Ended\")"
   ]
  }
 ],
 "metadata": {
  "kernelspec": {
   "display_name": "Python 3 (ipykernel)",
   "language": "python",
   "name": "python3"
  },
  "language_info": {
   "codemirror_mode": {
    "name": "ipython",
    "version": 3
   },
   "file_extension": ".py",
   "mimetype": "text/x-python",
   "name": "python",
   "nbconvert_exporter": "python",
   "pygments_lexer": "ipython3",
   "version": "3.9.7"
  }
 },
 "nbformat": 4,
 "nbformat_minor": 5
}
