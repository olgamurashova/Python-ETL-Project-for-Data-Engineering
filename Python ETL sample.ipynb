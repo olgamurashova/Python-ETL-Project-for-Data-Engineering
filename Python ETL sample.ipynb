{
 "cells": [
  {
   "cell_type": "code",
   "execution_count": null,
   "id": "e3d56035",
   "metadata": {},
   "outputs": [],
   "source": [
    "#Filtering the files based on their extension\n",
    "import glob\n",
    "list_csv=glob.glob('*.csv')\n",
    "list_json=glob.glob('*.json')"
   ]
  },
  {
   "cell_type": "code",
   "execution_count": null,
   "id": "6947daf0",
   "metadata": {},
   "outputs": [],
   "source": [
    "#Creating extract function for csv files\n",
    "def extract_from_csv(file_to_process):\n",
    "    dataframe = pd.read_csv(file_to_process)\n",
    "    return dataframe"
   ]
  },
  {
   "cell_type": "code",
   "execution_count": null,
   "id": "25c4edda",
   "metadata": {},
   "outputs": [],
   "source": [
    "df=extract_from_csv('filename.csv')"
   ]
  },
  {
   "cell_type": "code",
   "execution_count": null,
   "id": "b00a45d7",
   "metadata": {},
   "outputs": [],
   "source": [
    "#Creating extract function for json files:\n",
    "def extract_from_json(file_to_process):\n",
    "    dataframe = pd.read_json(file_to_process,lines=True)\n",
    "    return dataframe\n",
    "df=extract_from_json('filename.json')"
   ]
  },
  {
   "cell_type": "code",
   "execution_count": null,
   "id": "f2f36542",
   "metadata": {},
   "outputs": [],
   "source": [
    "# Cerate an empty data frame to hold extracted data\n",
    "extracted_data = pd.DataFrame(columns=['name', 'height', 'weight'])"
   ]
  },
  {
   "cell_type": "code",
   "execution_count": null,
   "id": "4e8541ce",
   "metadata": {},
   "outputs": [],
   "source": [
    "#process all csv files\n",
    "for csvfile in glob.glob(\"*.csv\"):\n",
    "    extracted_data = extracted_data.append(extract_from_csv(csvfile),\n",
    "    ignore_index = True)\n",
    "return extracted_data\n"
   ]
  },
  {
   "cell_type": "code",
   "execution_count": null,
   "id": "83cba02f",
   "metadata": {},
   "outputs": [],
   "source": [
    "#process all json files\n",
    "for jsonfile in glob.glob(\"*.json\"):\n",
    "    extracted_data = extracted_data.apppend(extract_from_json(jsonfile),\n",
    "    ignore_index = True)\n",
    "return extracted_data"
   ]
  },
  {
   "cell_type": "code",
   "execution_count": null,
   "id": "c2a071f8",
   "metadata": {},
   "outputs": [],
   "source": [
    "#Transforming data using Conversion fucntion\n",
    "def transform(data):\n",
    "    #convert height which is in inches to millimeter\n",
    "    #convert inches to to meters and round off to two decimals(one inch is 0.0254 meters)\n",
    "    data['height'] = round(data.height * 0.0254,2)\n",
    "    \n",
    "    # convert pounds to kilograms and round off to two decimals(one pound is 0.45359237)\n",
    "    data['weight' = round(data.weight * 0.45355937,2)]\n",
    "    return data"
   ]
  },
  {
   "cell_type": "code",
   "execution_count": null,
   "id": "dd28be20",
   "metadata": {},
   "outputs": [],
   "source": [
    "#Loading data\n",
    "def load(targetfile,data_to_load):\n",
    "    data_to_load.to_csv(targetfile)\n",
    "    \n",
    "targetfile = \"transformed_data.csv\"\n",
    "load(targetfile,transformed_data)\n"
   ]
  },
  {
   "cell_type": "code",
   "execution_count": null,
   "id": "013b0b62",
   "metadata": {},
   "outputs": [],
   "source": [
    "#Create logging entries\n",
    "from datetime import datetime\n",
    "\n",
    "def log(message):\n",
    "    timestampt_format = '%Y-%h-%d-%H:%M:%S'\n",
    "    now = datetime.now()\n",
    "    timestamp = now.strftime(timestamp_format)\n",
    "    with open(\"logfile.txt\" , \"a\") as f:\n",
    "        f.write (timestamp + ',' + message + '\\n')"
   ]
  },
  {
   "cell_type": "code",
   "execution_count": null,
   "id": "c92922ff",
   "metadata": {},
   "outputs": [],
   "source": [
    "#Call all functions\n",
    "log(\"ETL Job Started\")\n",
    "\n",
    "log(\"Transform Job Started\")\n",
    "transformed_data = transform(extracted_data)\n",
    "log(\"Transform Job Ended\")\n",
    " \n",
    "log(\"Load Job Started\")\n",
    "load(targetfile, transformed_data)\n",
    "log(\"Load Job Ended\")\n",
    "\n",
    "log(\"ETL Job Ended\")\n"
   ]
  }
 ],
 "metadata": {
  "kernelspec": {
   "display_name": "Python 3 (ipykernel)",
   "language": "python",
   "name": "python3"
  },
  "language_info": {
   "codemirror_mode": {
    "name": "ipython",
    "version": 3
   },
   "file_extension": ".py",
   "mimetype": "text/x-python",
   "name": "python",
   "nbconvert_exporter": "python",
   "pygments_lexer": "ipython3",
   "version": "3.9.7"
  }
 },
 "nbformat": 4,
 "nbformat_minor": 5
}
